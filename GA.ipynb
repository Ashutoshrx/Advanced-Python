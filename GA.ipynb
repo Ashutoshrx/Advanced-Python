{
  "nbformat": 4,
  "nbformat_minor": 0,
  "metadata": {
    "colab": {
      "name": "GA.ipynb",
      "provenance": [],
      "collapsed_sections": []
    },
    "kernelspec": {
      "name": "python3",
      "display_name": "Python 3"
    }
  },
  "cells": [
    {
      "cell_type": "code",
      "metadata": {
        "id": "l7kKmBinTfL3",
        "colab_type": "code",
        "colab": {}
      },
      "source": [
        "import numpy as np\n",
        "from numpy.random import randint\n",
        "from random import random as rnd\n",
        "from random import gauss, randrange"
      ],
      "execution_count": 0,
      "outputs": []
    },
    {
      "cell_type": "code",
      "metadata": {
        "id": "r4WryWsXT7_d",
        "colab_type": "code",
        "colab": {}
      },
      "source": [
        "def individual(number_of_genes, upper_limit, lower_limit):\n",
        "    individual=[round(rnd()*(upper_limit-lower_limit)\n",
        "                +lower_limit,1) for x in range(number_of_genes)]\n",
        "    return individual"
      ],
      "execution_count": 0,
      "outputs": []
    },
    {
      "cell_type": "code",
      "metadata": {
        "id": "0lQzVHr_Uxef",
        "colab_type": "code",
        "colab": {}
      },
      "source": [
        "def population(number_of_individuals,\n",
        "               number_of_genes, upper_limit, lower_limit):\n",
        "    return [individual(number_of_genes, upper_limit, lower_limit) \n",
        "        for x in range(number_of_individuals)]"
      ],
      "execution_count": 0,
      "outputs": []
    },
    {
      "cell_type": "code",
      "metadata": {
        "id": "eISI-A60Uz2B",
        "colab_type": "code",
        "colab": {}
      },
      "source": [
        "def fitness_calculation(individual):\n",
        "    fitness_value = sum(individual)\n",
        "    return fitness_value"
      ],
      "execution_count": 0,
      "outputs": []
    },
    {
      "cell_type": "code",
      "metadata": {
        "id": "-_UG-FhyU2Ah",
        "colab_type": "code",
        "colab": {}
      },
      "source": [
        "def roulette(cum_sum, chance):\n",
        "    veriable = list(cum_sum.copy())\n",
        "    veriable.append(chance)\n",
        "    veriable = sorted(veriable)\n",
        "    return veriable.index(chance)"
      ],
      "execution_count": 0,
      "outputs": []
    },
    {
      "cell_type": "code",
      "metadata": {
        "id": "nR_h9bmrU9im",
        "colab_type": "code",
        "colab": {}
      },
      "source": [
        "def selection(generation, method='Fittest Half'):\n",
        "    generation['Normalized Fitness'] = \\\n",
        "        sorted([generation['Fitness'][x]/sum(generation['Fitness']) \n",
        "        for x in range(len(generation['Fitness']))], reverse = True)\n",
        "    generation['Cumulative Sum'] = np.array(\n",
        "        generation['Normalized Fitness']).cumsum()\n",
        "    if method == 'Roulette Wheel':\n",
        "        selected = []\n",
        "        for x in range(len(generation['Individuals'])//2):\n",
        "            selected.append(roulette(generation\n",
        "                ['Cumulative Sum'], rnd()))\n",
        "            while len(set(selected)) != len(selected):\n",
        "                selected[x] = \\\n",
        "                    (roulette(generation['Cumulative Sum'], rnd()))\n",
        "        selected = {'Individuals': \n",
        "            [generation['Individuals'][int(selected[x])]\n",
        "                for x in range(len(generation['Individuals'])//2)]\n",
        "                ,'Fitness': [generation['Fitness'][int(selected[x])]\n",
        "                for x in range(\n",
        "                    len(generation['Individuals'])//2)]}\n",
        "    elif method == 'Fittest Half':\n",
        "        selected_individuals = [generation['Individuals'][-x-1]\n",
        "            for x in range(int(len(generation['Individuals'])//2))]\n",
        "        selected_fitnesses = [generation['Fitness'][-x-1]\n",
        "            for x in range(int(len(generation['Individuals'])//2))]\n",
        "        selected = {'Individuals': selected_individuals,\n",
        "                    'Fitness': selected_fitnesses}\n",
        "    elif method == 'Random':\n",
        "        selected_individuals = \\\n",
        "            [generation['Individuals']\n",
        "                [randint(1,len(generation['Fitness']))]\n",
        "            for x in range(int(len(generation['Individuals'])//2))]\n",
        "        selected_fitnesses = [generation['Fitness'][-x-1]\n",
        "            for x in range(int(len(generation['Individuals'])//2))]\n",
        "        selected = {'Individuals': selected_individuals,\n",
        "                    'Fitness': selected_fitnesses}\n",
        "    return selected"
      ],
      "execution_count": 0,
      "outputs": []
    },
    {
      "cell_type": "code",
      "metadata": {
        "id": "8FS5bvZ3VCg4",
        "colab_type": "code",
        "colab": {}
      },
      "source": [
        "def pairing(elit, selected, method = 'Fittest'):\n",
        "    individuals = [elit['Individuals']]+selected['Individuals']\n",
        "    fitness = [elit['Fitness']]+selected['Fitness']\n",
        "    if method == 'Fittest':\n",
        "        parents = [[individuals[x],individuals[x+1]] \n",
        "                   for x in range(len(individuals)//2)]\n",
        "    if method == 'Random':\n",
        "        parents = []\n",
        "        for x in range(len(individuals)//2):\n",
        "            parents.append(\n",
        "                [individuals[randint(0,(len(individuals)-1))],\n",
        "                 individuals[randint(0,(len(individuals)-1))]])\n",
        "            while parents[x][0] == parents[x][1]:\n",
        "                parents[x][1] = individuals[\n",
        "                    randint(0,(len(individuals)-1))]\n",
        "    if method == 'Weighted Random':\n",
        "        normalized_fitness = sorted(\n",
        "            [fitness[x] /sum(fitness) \n",
        "             for x in range(len(individuals)//2)], reverse = True)\n",
        "        cummulitive_sum = np.array(normalized_fitness).cumsum()\n",
        "        parents = []\n",
        "        for x in range(len(individuals)//2):\n",
        "            parents.append(\n",
        "                [individuals[roulette(cummulitive_sum,rnd())],\n",
        "                 individuals[roulette(cummulitive_sum,rnd())]])\n",
        "            while parents[x][0] == parents[x][1]:\n",
        "                parents[x][1] = individuals[\n",
        "                    roulette(cummulitive_sum,rnd())]\n",
        "    return parents"
      ],
      "execution_count": 0,
      "outputs": []
    },
    {
      "cell_type": "code",
      "metadata": {
        "id": "37IbywcUVH94",
        "colab_type": "code",
        "colab": {}
      },
      "source": [
        "def mating(parents, method='Single Point'):\n",
        "    if method == 'Single Point':\n",
        "        pivot_point = randint(1, len(parents[0]))\n",
        "        offsprings = [parents[0] \\\n",
        "            [0:pivot_point]+parents[1][pivot_point:]]\n",
        "        offsprings.append(parents[1]\n",
        "            [0:pivot_point]+parents[0][pivot_point:])\n",
        "    if method == 'Two Pionts':\n",
        "        pivot_point_1 = randint(1, len(parents[0]-1))\n",
        "        pivot_point_2 = randint(1, len(parents[0]))\n",
        "        while pivot_point_2<pivot_point_1:\n",
        "            pivot_point_2 = randint(1, len(parents[0]))\n",
        "        offsprings = [parents[0][0:pivot_point_1]+\n",
        "            parents[1][pivot_point_1:pivot_point_2]+\n",
        "            [parents[0][pivot_point_2:]]]\n",
        "        offsprings.append([parents[1][0:pivot_point_1]+\n",
        "            parents[0][pivot_point_1:pivot_point_2]+\n",
        "            [parents[1][pivot_point_2:]]])\n",
        "    return offsprings"
      ],
      "execution_count": 0,
      "outputs": []
    },
    {
      "cell_type": "code",
      "metadata": {
        "id": "xt4S4BCHVLmz",
        "colab_type": "code",
        "colab": {}
      },
      "source": [
        "def mutation(individual, upper_limit, lower_limit, muatation_rate=2, \n",
        "    method='Reset', standard_deviation = 0.001):\n",
        "    gene = [randint(0, 7)]\n",
        "    for x in range(muatation_rate-1):\n",
        "        gene.append(randint(0, 7))\n",
        "        while len(set(gene)) < len(gene):\n",
        "            gene[x] = randint(0, 7)\n",
        "    mutated_individual = individual.copy()\n",
        "    if method == 'Gauss':\n",
        "        for x in range(muatation_rate):\n",
        "            mutated_individual[x] = \\\n",
        "            round(individual[x]+gauss(0, standard_deviation), 1)\n",
        "    if method == 'Reset':\n",
        "        for x in range(muatation_rate):\n",
        "            mutated_individual[x] = round(rnd()* \\\n",
        "                (upper_limit-lower_limit)+lower_limit,1)\n",
        "    return mutated_individual"
      ],
      "execution_count": 0,
      "outputs": []
    },
    {
      "cell_type": "code",
      "metadata": {
        "id": "MEloz86vVPrq",
        "colab_type": "code",
        "colab": {}
      },
      "source": [
        "def next_generation(gen, upper_limit, lower_limit):\n",
        "    elit = {}\n",
        "    next_gen = {}\n",
        "    elit['Individuals'] = gen['Individuals'].pop(-1)\n",
        "    elit['Fitness'] = gen['Fitness'].pop(-1)\n",
        "    selected = selection(gen)\n",
        "    parents = pairing(elit, selected)\n",
        "    offsprings = [[[mating(parents[x])\n",
        "                    for x in range(len(parents))]\n",
        "                    [y][z] for z in range(2)] \n",
        "                    for y in range(len(parents))]\n",
        "    offsprings1 = [offsprings[x][0]\n",
        "                   for x in range(len(parents))]\n",
        "    offsprings2 = [offsprings[x][1]\n",
        "                   for x in range(len(parents))]\n",
        "    unmutated = selected['Individuals']+offsprings1+offsprings2\n",
        "    mutated = [mutation(unmutated[x], upper_limit, lower_limit) \n",
        "        for x in range(len(gen['Individuals']))]\n",
        "    unsorted_individuals = mutated + [elit['Individuals']]\n",
        "    unsorted_next_gen = \\\n",
        "        [fitness_calculation(mutated[x]) \n",
        "         for x in range(len(mutated))]\n",
        "    unsorted_fitness = [unsorted_next_gen[x]\n",
        "        for x in range(len(gen['Fitness']))] + [elit['Fitness']]\n",
        "    sorted_next_gen = \\\n",
        "        sorted([[unsorted_individuals[x], unsorted_fitness[x]]\n",
        "            for x in range(len(unsorted_individuals))], \n",
        "                key=lambda x: x[1])\n",
        "    next_gen['Individuals'] = [sorted_next_gen[x][0]\n",
        "        for x in range(len(sorted_next_gen))]\n",
        "    next_gen['Fitness'] = [sorted_next_gen[x][1]\n",
        "        for x in range(len(sorted_next_gen))]\n",
        "    gen['Individuals'].append(elit['Individuals'])\n",
        "    gen['Fitness'].append(elit['Fitness'])\n",
        "    return next_gen"
      ],
      "execution_count": 0,
      "outputs": []
    },
    {
      "cell_type": "code",
      "metadata": {
        "id": "y3f_0HlHVSb9",
        "colab_type": "code",
        "colab": {}
      },
      "source": [
        "def fitness_similarity_chech(max_fitness, number_of_similarity):\n",
        "    result = False\n",
        "    similarity = 0\n",
        "    for n in range(len(max_fitness)-1):\n",
        "        if max_fitness[n] == max_fitness[n+1]:\n",
        "            similarity += 1\n",
        "        else:\n",
        "            similarity = 0\n",
        "    if similarity == number_of_similarity-1:\n",
        "        result = True\n",
        "    return result"
      ],
      "execution_count": 0,
      "outputs": []
    },
    {
      "cell_type": "code",
      "metadata": {
        "id": "ARwU5zCKVVxB",
        "colab_type": "code",
        "colab": {
          "base_uri": "https://localhost:8080/",
          "height": 90
        },
        "outputId": "e5b4b1b3-374e-4eba-bac0-07c4d2071327"
      },
      "source": [
        "# Generations and fitness values will be written to this file\n",
        "#Result_file = 'GA_Results.txt'\n",
        "# Creating the First Generation\n",
        "def first_generation(pop):\n",
        "    fitness = [fitness_calculation(pop[x]) \n",
        "        for x in range(len(pop))]\n",
        "    sorted_fitness = sorted([[pop[x], fitness[x]]\n",
        "        for x in range(len(pop))], key=lambda x: x[1])\n",
        "    population = [sorted_fitness[x][0] \n",
        "        for x in range(len(sorted_fitness))]\n",
        "    fitness = [sorted_fitness[x][1] \n",
        "        for x in range(len(sorted_fitness))]\n",
        "    return {'Individuals': population, 'Fitness': sorted(fitness)}\n",
        "pop = population(20,7,1,0)\n",
        "gen = []\n",
        "gen.append(first_generation(pop))\n",
        "fitness_avg = np.array([sum(gen[0]['Fitness'])/\n",
        "                        len(gen[0]['Fitness'])])\n",
        "fitness_max = np.array([max(gen[0]['Fitness'])])\n",
        "\n",
        "Result_file=str(gen)\n",
        "print(Result_file)\n",
        "print('\\n')\n"
      ],
      "execution_count": 73,
      "outputs": [
        {
          "output_type": "stream",
          "text": [
            "[{'Individuals': [[0.8, 0.0, 0.1, 1.0, 0.4, 0.0, 0.1], [0.1, 0.6, 0.4, 0.3, 0.6, 0.1, 0.3], [0.0, 0.1, 0.7, 0.1, 0.6, 0.3, 0.6], [0.2, 0.5, 0.2, 0.0, 0.7, 0.8, 0.3], [0.4, 0.1, 0.3, 0.2, 0.3, 1.0, 0.4], [0.5, 0.0, 0.4, 0.3, 0.8, 0.3, 0.6], [0.7, 0.3, 0.6, 0.5, 0.8, 0.0, 0.0], [0.4, 0.1, 0.4, 0.3, 0.5, 1.0, 0.5], [0.2, 0.6, 0.9, 0.4, 0.5, 0.1, 0.5], [0.7, 0.0, 0.9, 0.6, 0.2, 0.7, 0.4], [0.9, 0.2, 0.8, 0.4, 0.3, 0.1, 0.9], [0.7, 0.2, 1.0, 0.2, 0.1, 0.6, 0.8], [0.9, 0.3, 0.5, 0.9, 0.4, 0.7, 0.0], [0.3, 0.5, 0.0, 0.7, 0.6, 0.8, 0.8], [1.0, 0.3, 0.8, 0.1, 0.4, 0.3, 0.9], [0.4, 0.9, 0.7, 0.4, 0.1, 0.7, 0.6], [0.9, 0.5, 0.9, 0.6, 0.5, 0.0, 0.6], [0.7, 0.8, 1.0, 0.5, 0.3, 0.2, 0.7], [0.7, 0.4, 0.7, 0.4, 0.1, 0.9, 1.0], [0.7, 0.9, 0.6, 0.3, 0.9, 0.6, 0.9]], 'Fitness': [2.4, 2.4, 2.4, 2.6999999999999997, 2.6999999999999997, 2.9, 2.9000000000000004, 3.2, 3.2, 3.5000000000000004, 3.6, 3.6000000000000005, 3.7, 3.7, 3.8, 3.8000000000000003, 4.0, 4.2, 4.2, 4.9]}]\n",
            "\n",
            "\n"
          ],
          "name": "stdout"
        }
      ]
    },
    {
      "cell_type": "code",
      "metadata": {
        "id": "BdLUrmVwX-Ru",
        "colab_type": "code",
        "colab": {
          "base_uri": "https://localhost:8080/",
          "height": 195
        },
        "outputId": "dfa197d7-5a50-4ac5-fdb4-a700dbaf7d6f"
      },
      "source": [
        "finish = False\n",
        "while finish == False:\n",
        "    if max(fitness_max) > 6:\n",
        "        break\n",
        "    if max(fitness_avg) > 5:\n",
        "        break\n",
        "    if fitness_similarity_chech(fitness_max, 50) == True:\n",
        "        break\n",
        "    gen.append(next_generation(gen[-1],1,0))\n",
        "    fitness_avg = np.append(fitness_avg, sum(\n",
        "        gen[-1]['Fitness'])/len(gen[-1]['Fitness']))\n",
        "    fitness_max = np.append(fitness_max, max(gen[-1]['Fitness']))\n",
        "\n",
        "    Result_file=str(gen[-1])\n",
        "    print(Result_file)"
      ],
      "execution_count": 74,
      "outputs": [
        {
          "output_type": "stream",
          "text": [
            "{'Individuals': [[0.1, 0.1, 0.8, 0.1, 0.4, 0.3, 0.9], [0.0, 0.6, 0.7, 0.4, 0.3, 0.2, 0.7], [0.5, 0.3, 1.0, 0.5, 0.3, 0.0, 0.6], [0.3, 0.5, 0.8, 0.1, 0.4, 0.3, 0.9], [0.1, 0.2, 1.0, 0.5, 0.3, 0.2, 1.0], [0.7, 0.6, 0.8, 0.1, 0.4, 0.3, 0.6], [0.7, 0.1, 0.9, 0.6, 0.3, 0.2, 0.7], [0.0, 0.7, 0.0, 0.7, 0.6, 0.8, 0.8], [0.5, 0.6, 0.8, 0.4, 0.3, 0.1, 0.9], [0.6, 0.6, 0.7, 0.4, 0.1, 0.7, 0.6], [0.2, 0.8, 1.0, 0.2, 0.1, 0.6, 0.8], [0.2, 0.2, 0.6, 0.3, 0.9, 0.6, 0.9], [0.6, 0.5, 1.0, 0.5, 0.3, 0.2, 0.7], [0.5, 0.8, 0.5, 0.9, 0.4, 0.7, 0.0], [0.6, 0.6, 0.9, 0.6, 0.5, 0.0, 0.6], [0.7, 0.7, 0.7, 0.4, 0.1, 0.7, 0.6], [1.0, 0.6, 0.9, 0.6, 0.5, 0.0, 0.6], [0.4, 0.9, 0.6, 0.3, 0.9, 0.6, 1.0], [0.7, 0.9, 0.6, 0.3, 0.9, 0.6, 0.9], [0.9, 1.0, 0.7, 0.4, 0.1, 0.9, 1.0]], 'Fitness': [2.7, 2.8999999999999995, 3.1999999999999997, 3.3, 3.3000000000000003, 3.4999999999999996, 3.5, 3.5999999999999996, 3.6, 3.6999999999999997, 3.7, 3.7, 3.8, 3.8, 3.8000000000000003, 3.9, 4.2, 4.699999999999999, 4.9, 5.0]}\n",
            "{'Individuals': [[0.7, 0.0, 0.6, 0.3, 0.5, 0.0, 0.6], [0.1, 0.4, 0.9, 0.6, 0.5, 0.0, 0.6], [0.6, 0.2, 0.5, 0.9, 0.4, 0.7, 0.0], [0.7, 0.2, 0.9, 0.6, 0.5, 0.0, 0.6], [0.3, 0.5, 1.0, 0.5, 0.3, 0.2, 0.7], [0.9, 0.3, 0.7, 0.4, 0.1, 0.7, 0.6], [0.3, 0.9, 0.7, 0.4, 0.1, 0.7, 0.6], [0.0, 0.4, 0.6, 0.3, 0.9, 0.6, 0.9], [0.8, 0.3, 0.9, 0.6, 0.5, 0.0, 0.6], [0.4, 0.7, 0.9, 0.6, 0.5, 0.0, 0.6], [0.9, 0.2, 0.7, 0.4, 0.1, 0.6, 0.9], [0.6, 0.8, 0.7, 0.4, 0.1, 0.7, 0.6], [0.1, 0.5, 0.6, 0.3, 0.9, 0.6, 0.9], [0.4, 0.5, 0.6, 0.3, 0.9, 0.6, 0.9], [1.0, 0.9, 1.0, 0.2, 0.1, 0.6, 0.8], [0.7, 0.8, 0.6, 0.3, 0.9, 0.6, 1.0], [0.4, 0.8, 0.9, 0.3, 0.9, 0.6, 1.0], [0.8, 0.8, 0.6, 0.3, 0.9, 0.6, 1.0], [0.9, 1.0, 0.7, 0.4, 0.1, 0.9, 1.0], [0.7, 0.7, 0.6, 0.3, 0.9, 0.9, 1.0]], 'Fitness': [2.6999999999999997, 3.1, 3.3, 3.5, 3.5, 3.6999999999999997, 3.6999999999999997, 3.7, 3.7, 3.7, 3.8000000000000003, 3.9, 3.9, 4.2, 4.6000000000000005, 4.9, 4.9, 5.0, 5.0, 5.1]}\n",
            "{'Individuals': [[0.6, 0.2, 0.7, 0.4, 0.1, 0.7, 0.6], [0.5, 0.2, 0.7, 0.4, 0.1, 0.9, 1.0], [0.3, 0.1, 0.6, 0.3, 0.9, 0.6, 1.0], [0.0, 0.2, 0.9, 0.3, 0.9, 0.6, 1.0], [0.2, 0.4, 0.6, 0.3, 0.9, 0.6, 1.0], [0.8, 0.5, 1.0, 0.2, 0.1, 0.6, 0.8], [0.3, 1.0, 1.0, 0.2, 0.1, 0.6, 0.8], [0.3, 0.7, 0.7, 0.4, 0.1, 0.9, 1.0], [0.9, 0.3, 0.6, 0.3, 0.1, 0.9, 1.0], [0.8, 0.1, 0.6, 0.3, 0.9, 0.6, 1.0], [0.0, 0.6, 0.9, 0.3, 0.9, 0.6, 1.0], [0.4, 0.2, 0.9, 0.3, 0.9, 0.6, 1.0], [0.9, 0.8, 0.7, 0.4, 0.1, 0.6, 0.9], [0.9, 0.1, 0.6, 0.3, 0.9, 0.6, 1.0], [0.5, 0.7, 0.6, 0.3, 0.9, 0.6, 0.9], [0.8, 0.4, 0.6, 0.3, 0.9, 0.6, 1.0], [0.9, 0.7, 0.6, 0.3, 0.9, 0.6, 0.9], [0.8, 0.4, 1.0, 0.3, 0.9, 0.6, 1.0], [0.7, 0.7, 0.6, 0.3, 0.9, 0.9, 1.0], [1.0, 0.9, 0.7, 0.4, 0.9, 0.9, 1.0]], 'Fitness': [3.3000000000000003, 3.8, 3.8000000000000003, 3.9000000000000004, 4.0, 4.0, 4.0, 4.1, 4.1, 4.300000000000001, 4.300000000000001, 4.300000000000001, 4.4, 4.4, 4.5, 4.6, 4.9, 5.0, 5.1, 5.8]}\n",
            "{'Individuals': [[0.1, 0.2, 0.6, 0.3, 0.9, 0.6, 0.9], [0.5, 0.8, 0.7, 0.4, 0.1, 0.6, 0.9], [0.4, 0.2, 0.6, 0.3, 0.9, 0.6, 1.0], [0.5, 0.5, 0.6, 0.3, 0.9, 0.6, 0.9], [0.0, 0.9, 0.6, 0.3, 0.9, 0.6, 1.0], [0.6, 0.1, 0.9, 0.3, 0.9, 0.6, 1.0], [0.8, 0.0, 0.6, 0.3, 0.9, 0.9, 1.0], [0.6, 0.6, 0.6, 0.3, 0.9, 0.6, 0.9], [0.5, 0.4, 0.9, 0.3, 0.9, 0.6, 1.0], [0.6, 0.3, 0.6, 0.3, 0.9, 0.9, 1.0], [0.8, 0.5, 0.6, 0.3, 0.9, 0.6, 1.0], [1.0, 0.3, 0.6, 0.3, 0.9, 0.6, 1.0], [0.9, 0.5, 0.6, 0.3, 0.9, 0.6, 0.9], [0.3, 0.7, 0.6, 0.3, 0.9, 0.9, 1.0], [0.8, 0.6, 0.6, 0.3, 0.9, 0.6, 0.9], [0.1, 0.9, 0.7, 0.3, 0.9, 0.9, 1.0], [0.2, 1.0, 1.0, 0.3, 0.9, 0.6, 1.0], [0.9, 1.0, 0.6, 0.3, 0.9, 0.6, 1.0], [0.8, 0.7, 0.7, 0.4, 0.9, 0.9, 1.0], [1.0, 0.9, 0.7, 0.4, 0.9, 0.9, 1.0]], 'Fitness': [3.6, 4.0, 4.0, 4.300000000000001, 4.300000000000001, 4.4, 4.5, 4.5, 4.6, 4.6, 4.699999999999999, 4.699999999999999, 4.7, 4.7, 4.7, 4.8, 5.0, 5.3, 5.4, 5.8]}\n",
            "{'Individuals': [[0.0, 0.1, 0.6, 0.3, 0.9, 0.6, 1.0], [0.0, 0.3, 0.6, 0.3, 0.9, 0.6, 0.9], [0.0, 0.4, 0.6, 0.3, 0.9, 0.6, 1.0], [0.2, 0.2, 0.6, 0.3, 0.9, 0.6, 1.0], [0.3, 0.5, 0.6, 0.3, 0.9, 0.6, 1.0], [0.3, 0.7, 0.6, 0.3, 0.9, 0.6, 0.9], [0.3, 0.7, 0.6, 0.3, 0.9, 0.6, 0.9], [0.4, 0.2, 0.6, 0.3, 0.9, 0.9, 1.0], [0.5, 0.1, 1.0, 0.3, 0.9, 0.6, 1.0], [0.3, 0.2, 0.7, 0.4, 0.9, 0.9, 1.0], [0.2, 0.8, 0.7, 0.3, 0.9, 0.6, 1.0], [0.1, 0.7, 0.7, 0.3, 0.9, 0.9, 1.0], [0.3, 0.7, 0.6, 0.3, 0.9, 0.9, 1.0], [0.1, 1.0, 0.6, 0.3, 0.9, 0.9, 1.0], [0.3, 0.9, 0.7, 0.4, 0.9, 0.9, 1.0], [0.9, 0.8, 0.6, 0.3, 0.9, 0.6, 1.0], [0.4, 0.8, 0.7, 0.4, 0.9, 0.9, 1.0], [0.6, 0.5, 1.0, 0.3, 0.9, 0.9, 1.0], [0.9, 0.9, 0.7, 0.3, 0.9, 0.9, 1.0], [1.0, 0.9, 0.7, 0.4, 0.9, 0.9, 1.0]], 'Fitness': [3.5, 3.6, 3.8000000000000003, 3.8000000000000003, 4.2, 4.300000000000001, 4.300000000000001, 4.300000000000001, 4.4, 4.4, 4.5, 4.6, 4.7, 4.8, 5.1, 5.1, 5.1000000000000005, 5.2, 5.6, 5.8]}\n",
            "{'Individuals': [[0.4, 0.1, 0.6, 0.3, 0.9, 0.6, 1.0], [0.1, 0.0, 0.7, 0.4, 0.9, 0.9, 1.0], [0.2, 0.5, 0.6, 0.3, 0.9, 0.6, 1.0], [0.1, 0.1, 1.0, 0.3, 0.9, 0.9, 1.0], [0.3, 0.3, 0.7, 0.3, 0.9, 0.9, 1.0], [0.9, 0.1, 0.7, 0.3, 0.9, 0.6, 1.0], [0.2, 0.5, 0.7, 0.4, 0.9, 0.9, 1.0], [0.2, 0.7, 0.7, 0.3, 0.9, 0.9, 1.0], [0.6, 0.2, 0.7, 0.4, 0.9, 0.9, 1.0], [0.6, 0.4, 0.6, 0.3, 0.9, 0.9, 1.0], [0.9, 0.0, 0.7, 0.4, 0.9, 0.9, 1.0], [0.5, 0.9, 0.6, 0.3, 0.9, 0.6, 1.0], [0.8, 0.6, 0.7, 0.3, 0.9, 0.6, 1.0], [0.7, 0.3, 0.7, 0.4, 0.9, 0.9, 1.0], [0.3, 0.8, 0.7, 0.4, 0.9, 0.9, 1.0], [0.9, 0.4, 0.7, 0.3, 0.9, 0.9, 1.0], [0.6, 0.8, 0.7, 0.3, 0.9, 0.9, 1.0], [0.7, 0.8, 0.6, 0.3, 0.9, 0.9, 1.0], [0.5, 0.7, 1.0, 0.3, 0.9, 0.9, 1.0], [1.0, 0.9, 0.7, 0.4, 0.9, 0.9, 1.0]], 'Fitness': [3.9000000000000004, 4.0, 4.1, 4.3, 4.4, 4.5, 4.6, 4.699999999999999, 4.699999999999999, 4.7, 4.8, 4.8, 4.8999999999999995, 4.9, 5.0, 5.1, 5.199999999999999, 5.2, 5.3, 5.8]}\n",
            "{'Individuals': [[0.1, 0.3, 0.6, 0.3, 0.9, 0.9, 1.0], [0.3, 0.2, 0.6, 0.3, 0.9, 0.9, 1.0], [0.8, 0.1, 0.6, 0.3, 0.9, 0.6, 1.0], [0.2, 0.1, 1.0, 0.3, 0.9, 0.9, 1.0], [0.1, 0.2, 1.0, 0.3, 0.9, 0.9, 1.0], [0.4, 0.4, 0.6, 0.3, 0.9, 0.9, 1.0], [0.5, 0.2, 0.7, 0.3, 0.9, 0.9, 1.0], [0.1, 0.6, 0.7, 0.4, 0.9, 0.9, 1.0], [0.4, 0.6, 0.7, 0.3, 0.9, 0.9, 1.0], [0.6, 0.5, 0.6, 0.3, 0.9, 0.9, 1.0], [0.7, 0.7, 0.7, 0.3, 0.9, 0.6, 1.0], [0.2, 0.9, 0.7, 0.3, 0.9, 0.9, 1.0], [0.8, 0.3, 0.7, 0.3, 0.9, 0.9, 1.0], [0.2, 1.0, 0.7, 0.3, 0.9, 0.9, 1.0], [0.8, 0.4, 1.0, 0.3, 0.9, 0.9, 1.0], [0.7, 0.8, 0.7, 0.4, 0.9, 0.9, 1.0], [0.6, 0.8, 1.0, 0.3, 0.9, 0.9, 1.0], [0.8, 1.0, 0.7, 0.3, 0.9, 0.9, 1.0], [0.9, 0.9, 0.7, 0.4, 0.9, 0.9, 1.0], [1.0, 0.9, 0.7, 0.4, 0.9, 0.9, 1.0]], 'Fitness': [4.1, 4.2, 4.300000000000001, 4.4, 4.4, 4.5, 4.5, 4.6, 4.8, 4.8, 4.8999999999999995, 4.9, 4.9, 5.0, 5.3, 5.4, 5.5, 5.6, 5.7, 5.8]}\n",
            "{'Individuals': [[0.2, 0.1, 0.7, 0.3, 0.9, 0.9, 1.0], [0.3, 0.0, 0.7, 0.4, 0.9, 0.9, 1.0], [0.5, 0.0, 0.7, 0.3, 0.9, 0.9, 1.0], [0.2, 0.3, 0.7, 0.3, 0.9, 0.9, 1.0], [0.1, 0.2, 1.0, 0.3, 0.9, 0.9, 1.0], [0.4, 0.2, 0.7, 0.3, 0.9, 0.9, 1.0], [0.4, 0.3, 0.7, 0.3, 0.9, 0.9, 1.0], [0.4, 0.6, 0.7, 0.3, 0.9, 0.9, 1.0], [0.0, 0.7, 1.0, 0.3, 0.9, 0.9, 1.0], [0.9, 0.1, 0.7, 0.4, 0.9, 0.9, 1.0], [0.7, 0.8, 0.7, 0.3, 0.9, 0.6, 1.0], [0.5, 0.4, 1.0, 0.3, 0.9, 0.9, 1.0], [0.6, 0.4, 1.0, 0.3, 0.9, 0.9, 1.0], [0.8, 0.2, 1.0, 0.3, 0.9, 0.9, 1.0], [0.9, 0.3, 0.7, 0.4, 0.9, 0.9, 1.0], [0.7, 0.4, 1.0, 0.3, 0.9, 0.9, 1.0], [0.7, 0.7, 0.7, 0.4, 0.9, 0.9, 1.0], [0.9, 0.3, 1.0, 0.3, 0.9, 0.9, 1.0], [0.7, 1.0, 1.0, 0.3, 0.9, 0.9, 1.0], [1.0, 0.9, 0.7, 0.4, 0.9, 0.9, 1.0]], 'Fitness': [4.1, 4.199999999999999, 4.3, 4.3, 4.4, 4.4, 4.5, 4.8, 4.8, 4.9, 5.0, 5.0, 5.1, 5.1, 5.1, 5.2, 5.3, 5.3, 5.8, 5.8]}\n",
            "{'Individuals': [[0.4, 0.0, 0.7, 0.4, 0.9, 0.9, 1.0], [0.3, 0.1, 0.7, 0.4, 0.9, 0.9, 1.0], [0.4, 0.2, 0.7, 0.4, 0.9, 0.9, 1.0], [0.6, 0.2, 0.7, 0.3, 0.9, 0.9, 1.0], [0.7, 0.0, 1.0, 0.3, 0.9, 0.9, 1.0], [0.2, 0.5, 1.0, 0.3, 0.9, 0.9, 1.0], [0.7, 0.9, 0.7, 0.3, 0.9, 0.6, 1.0], [0.4, 0.6, 1.0, 0.3, 0.9, 0.9, 1.0], [0.7, 0.5, 0.7, 0.4, 0.9, 0.9, 1.0], [0.9, 0.2, 1.0, 0.3, 0.9, 0.9, 1.0], [0.6, 0.5, 1.0, 0.3, 0.9, 0.9, 1.0], [0.9, 0.3, 1.0, 0.3, 0.9, 0.9, 1.0], [0.4, 0.8, 1.0, 0.3, 0.9, 0.9, 1.0], [0.9, 0.3, 1.0, 0.3, 0.9, 0.9, 1.0], [0.8, 0.5, 1.0, 0.3, 0.9, 0.9, 1.0], [0.5, 0.9, 1.0, 0.3, 0.9, 0.9, 1.0], [0.7, 1.0, 0.7, 0.4, 0.9, 0.9, 1.0], [0.8, 0.8, 1.0, 0.3, 0.9, 0.9, 1.0], [1.0, 0.9, 0.7, 0.4, 0.9, 0.9, 1.0], [1.0, 0.9, 1.0, 0.3, 0.9, 0.9, 1.0]], 'Fitness': [4.3, 4.3, 4.5, 4.6, 4.8, 4.8, 5.1, 5.1, 5.1, 5.2, 5.2, 5.3, 5.3, 5.3, 5.3999999999999995, 5.5, 5.6, 5.7, 5.8, 6.0]}\n"
          ],
          "name": "stdout"
        }
      ]
    },
    {
      "cell_type": "code",
      "metadata": {
        "id": "xgxio2nBVfrH",
        "colab_type": "code",
        "colab": {}
      },
      "source": [
        ""
      ],
      "execution_count": 0,
      "outputs": []
    }
  ]
}